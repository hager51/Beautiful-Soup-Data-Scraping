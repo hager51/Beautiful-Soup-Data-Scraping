{
 "cells": [
  {
   "cell_type": "code",
   "execution_count": null,
   "metadata": {},
   "outputs": [],
   "source": [
    "import re\n",
    "import requests\n",
    "from bs4 import BeautifulSoup\n",
    "import pandas as pd\n",
    "from pyexcel_ods import save_data\n",
    "import io\n",
    "from collections import OrderedDict"
   ]
  },
  {
   "cell_type": "code",
   "execution_count": null,
   "metadata": {},
   "outputs": [],
   "source": [
    "start_url = \"https://consultation.avocat.fr/avocats/ville-paris.html\"\n",
    "data = []\n",
    "def scrape_page(url):\n",
    "    r = requests.get(url)\n",
    "\n",
    "    soup_content = BeautifulSoup(r.text, 'html.parser')\n",
    "    for name in soup_content.find_all('h3', class_=\"name linkhover\"):\n",
    "        result = re.sub(rf\"\\b{'Me '}\\b\", \"\", name.get_text())\n",
    "        data.append(result)\n",
    "    \n",
    "    soup_page = BeautifulSoup(r.content, \"html.parser\")\n",
    "    next_page_link = soup_page.find(\"a\", class_=\"next\")\n",
    "    if next_page_link is not None:\n",
    "        href = next_page_link.get(\"href\")\n",
    "        scrape_page(href)\n",
    "    \n",
    "    return data"
   ]
  },
  {
   "cell_type": "code",
   "execution_count": null,
   "metadata": {},
   "outputs": [],
   "source": [
    "names = scrape_page(start_url)\n",
    "df = pd.read_csv(io.StringIO('\\n'.join(names)), names=[\"Name\"])\n",
    "      \n",
    "data = OrderedDict()\n",
    "data.update({\"Sheet_1\": df.to_numpy().tolist()})\n",
    "save_data(\"names.ods\", data)"
   ]
  }
 ],
 "metadata": {
  "kernelspec": {
   "display_name": "Python 3.9.12 ('base')",
   "language": "python",
   "name": "python3"
  },
  "language_info": {
   "codemirror_mode": {
    "name": "ipython",
    "version": 3
   },
   "file_extension": ".py",
   "mimetype": "text/x-python",
   "name": "python",
   "nbconvert_exporter": "python",
   "pygments_lexer": "ipython3",
   "version": "3.9.12"
  },
  "orig_nbformat": 4,
  "vscode": {
   "interpreter": {
    "hash": "34cfef20694f73d1b8b45577ba5aa1a8a841ee563eb3c98e32ff0596ebe5df4c"
   }
  }
 },
 "nbformat": 4,
 "nbformat_minor": 2
}
